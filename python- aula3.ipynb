{
 "cells": [
  {
   "cell_type": "code",
   "execution_count": 6,
   "metadata": {},
   "outputs": [
    {
     "name": "stdout",
     "output_type": "stream",
     "text": [
      "O número foi: 2\n"
     ]
    }
   ],
   "source": [
    "numero = int(input(\"Digite um número\"))\n",
    "print(\"O número foi:\",numero)"
   ]
  },
  {
   "cell_type": "code",
   "execution_count": 7,
   "metadata": {},
   "outputs": [
    {
     "name": "stdout",
     "output_type": "stream",
     "text": [
      "A soma foi: 6\n"
     ]
    }
   ],
   "source": [
    "numero1 = int(input(\"Digite um número:\"))\n",
    "numero2 = int(input(\"Digite outro número:\"))\n",
    "soma = numero1 + numero2\n",
    "print(\"A soma foi:\",soma)"
   ]
  },
  {
   "cell_type": "code",
   "execution_count": 11,
   "metadata": {},
   "outputs": [
    {
     "name": "stdout",
     "output_type": "stream",
     "text": [
      "A média foi: 2.1\n"
     ]
    }
   ],
   "source": [
    "numero3 = float(input(\"Digite a 1a nota:\"))\n",
    "numero4 = float(input(\"Digite a 2a nota:\"))\n",
    "numero5 = float(input(\"Digite a 3a nota:\"))\n",
    "\n",
    "soma2 = numero3 + numero4 + numero5\n",
    "media = soma2/3\n",
    "\n",
    "print(\"A média foi:\",media)"
   ]
  },
  {
   "cell_type": "code",
   "execution_count": 13,
   "metadata": {},
   "outputs": [
    {
     "name": "stdout",
     "output_type": "stream",
     "text": [
      "Seu salário foi: 9.899999999999999\n"
     ]
    }
   ],
   "source": [
    "salariomes = float(input(\"Quanto você ganha por hora?\"))\n",
    "horames = float(input(\"Quantas horas você trabalhou?\"))\n",
    "\n",
    "salariototal = salariomes * horames\n",
    "\n",
    "print(\"Seu salário foi:\",salariototal)"
   ]
  },
  {
   "cell_type": "code",
   "execution_count": 31,
   "metadata": {},
   "outputs": [
    {
     "name": "stdout",
     "output_type": "stream",
     "text": [
      "Seu peso excedeu, o total de multa será: 40\n"
     ]
    }
   ],
   "source": [
    "\n",
    "pesojoao = int(input(\"Qual foi o peso?\"))\n",
    "\n",
    "if(pesojoao > 50):\n",
    "    \n",
    "    multa = pesojoao - pesototal    \n",
    "    multatotal = multa * 4\n",
    "    print(\"Seu peso excedeu, o total de multa será:\",multatotal)\n",
    "else:\n",
    "    print(\"Peso não excedido\")\n",
    "\n"
   ]
  }
 ],
 "metadata": {
  "kernelspec": {
   "display_name": "Python 3",
   "language": "python",
   "name": "python3"
  },
  "language_info": {
   "codemirror_mode": {
    "name": "ipython",
    "version": 3
   },
   "file_extension": ".py",
   "mimetype": "text/x-python",
   "name": "python",
   "nbconvert_exporter": "python",
   "pygments_lexer": "ipython3",
   "version": "3.11.9"
  }
 },
 "nbformat": 4,
 "nbformat_minor": 2
}
